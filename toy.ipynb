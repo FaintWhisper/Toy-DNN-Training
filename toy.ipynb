{
 "cells": [
  {
   "cell_type": "code",
   "execution_count": null,
   "metadata": {
    "ExecuteTime": {
     "end_time": "2022-10-05T07:02:00.707279Z",
     "start_time": "2022-10-05T07:01:59.542204Z"
    }
   },
   "outputs": [],
   "source": [
    "import tensorflow as tf\n",
    "from tensorflow.keras import layers, Model\n",
    "import numpy as np\n",
    "\n",
    "gpus = tf.config.experimental.list_physical_devices(\"GPU\")\n",
    "\n",
    "if gpus:\n",
    "    try:\n",
    "        for gpu in gpus:\n",
    "            tf.config.experimental.set_memory_growth(gpu, True)\n",
    "\n",
    "        logical_gpus = tf.config.experimental.list_logical_devices(\"GPU\")\n",
    "        print(len(gpus), \"Physical GPUs,\", len(logical_gpus), \"Logical GPUs\")\n",
    "    except RuntimeError as e:\n",
    "        print(e)"
   ]
  },
  {
   "cell_type": "code",
   "execution_count": null,
   "metadata": {
    "ExecuteTime": {
     "end_time": "2022-10-05T07:02:00.712130Z",
     "start_time": "2022-10-05T07:02:00.708046Z"
    }
   },
   "outputs": [],
   "source": [
    "import numpy as np\n",
    "\n",
    "def make_dataset(n_samples, n_features, n_targets):\n",
    "    x = np.random.randn(n_samples, n_features)\n",
    "    y = np.random.randn(n_samples, n_targets)\n",
    "    return x, y\n",
    "\n",
    "x, y = make_dataset(1010, 1, 1)\n",
    "\n",
    "def segment_dataset(x, y, window_size):\n",
    "    x_segments = []\n",
    "    y_segments = []\n",
    "\n",
    "    for i in range(len(x) - window_size):\n",
    "        x_segments.append(x[i:i+window_size])\n",
    "        y_segments.append(y[i:i+window_size])\n",
    "\n",
    "    return np.array(x_segments), np.array(y_segments)\n",
    "\n",
    "x, y = segment_dataset(x, y, 10)\n",
    "\n",
    "print(x.shape, y.shape)\n",
    "print(x[0], \"\\n\\n\", y[0])\n",
    "\n",
    "input_dim = x.shape[1:]\n",
    "print(input_dim)"
   ]
  },
  {
   "cell_type": "code",
   "execution_count": null,
   "metadata": {
    "ExecuteTime": {
     "end_time": "2022-10-05T07:02:00.906633Z",
     "start_time": "2022-10-05T07:02:00.712889Z"
    }
   },
   "outputs": [],
   "source": [
    "from sklearn.model_selection import train_test_split\n",
    "\n",
    "x_train, x_test, y_train, y_test = train_test_split(x, y, test_size=0.2, random_state=42)\n",
    "x_train, x_val, y_train, y_val = train_test_split(x_train, y_train, test_size=0.2, random_state=42)\n",
    "\n",
    "print(x_train.shape, y_train.shape)\n",
    "print(x_val.shape, y_val.shape)\n",
    "print(x_test.shape, y_test.shape)"
   ]
  },
  {
   "cell_type": "code",
   "execution_count": null,
   "metadata": {
    "ExecuteTime": {
     "end_time": "2022-10-05T07:09:24.988305Z",
     "start_time": "2022-10-05T07:09:24.973387Z"
    }
   },
   "outputs": [],
   "source": [
    "def build_classifier(input_dim):\n",
    "    input_layer = layers.Input(shape=input_dim)\n",
    "    net = layers.Dense(128, activation=\"relu\")(input_layer)\n",
    "    net = layers.BatchNormalization()(net)\n",
    "    net = layers.Dense(1280, activation=\"relu\")(net)\n",
    "    net = layers.BatchNormalization()(net)\n",
    "    net = layers.Dropout(0.25)(net)\n",
    "    net = layers.Dense(12800, activation=\"relu\")(net)\n",
    "    net = layers.BatchNormalization()(net)\n",
    "    net = layers.Dense(1280, activation=\"relu\")(net)\n",
    "    net = layers.BatchNormalization()(net)\n",
    "    net = layers.Dropout(0.25)(net)\n",
    "    output_layer = layers.Dense(1, activation=\"sigmoid\")(net)\n",
    "\n",
    "    model = Model(input_layer, output_layer)\n",
    "    model.summary()\n",
    "\n",
    "    return model"
   ]
  },
  {
   "cell_type": "code",
   "execution_count": null,
   "metadata": {
    "ExecuteTime": {
     "end_time": "2022-10-05T07:11:39.106058Z",
     "start_time": "2022-10-05T07:09:25.539998Z"
    }
   },
   "outputs": [],
   "source": [
    "batch_size = 32\n",
    "learning_rate = 0.001\n",
    "epochs = 1000000\n",
    "\n",
    "# Build classifier\n",
    "classifier = build_classifier(input_dim=input_dim)\n",
    "\n",
    "# Compile classifier\n",
    "optimizer = tf.keras.optimizers.Adam(learning_rate=learning_rate)\n",
    "classifier.compile(optimizer=optimizer, loss=\"binary_crossentropy\", metrics=[\"accuracy\"])\n",
    "\n",
    "# Train classifier\n",
    "classifier.fit(x_train, y_train, batch_size=batch_size, epochs=epochs, validation_data=(x_val, y_val))\n",
    "\n",
    "# Evaluate classifier\n",
    "results = classifier.evaluate(x_test, y_test)\n",
    "\n",
    "print(\"Loss: %.2f\" % results[0])\n",
    "print(\"Accuracy: %.2f%%\" % (results[1] * 100))"
   ]
  }
 ],
 "metadata": {
  "kernelspec": {
   "display_name": "Python 3.9.7 ('tf26-gpu': conda)",
   "language": "python",
   "name": "python3"
  },
  "language_info": {
   "codemirror_mode": {
    "name": "ipython",
    "version": 3
   },
   "file_extension": ".py",
   "mimetype": "text/x-python",
   "name": "python",
   "nbconvert_exporter": "python",
   "pygments_lexer": "ipython3",
   "version": "3.9.7"
  },
  "toc": {
   "base_numbering": 1,
   "nav_menu": {},
   "number_sections": true,
   "sideBar": true,
   "skip_h1_title": false,
   "title_cell": "Table of Contents",
   "title_sidebar": "Contents",
   "toc_cell": false,
   "toc_position": {},
   "toc_section_display": true,
   "toc_window_display": false
  },
  "varInspector": {
   "cols": {
    "lenName": 16,
    "lenType": 16,
    "lenVar": 40
   },
   "kernels_config": {
    "python": {
     "delete_cmd_postfix": "",
     "delete_cmd_prefix": "del ",
     "library": "var_list.py",
     "varRefreshCmd": "print(var_dic_list())"
    },
    "r": {
     "delete_cmd_postfix": ") ",
     "delete_cmd_prefix": "rm(",
     "library": "var_list.r",
     "varRefreshCmd": "cat(var_dic_list()) "
    }
   },
   "types_to_exclude": [
    "module",
    "function",
    "builtin_function_or_method",
    "instance",
    "_Feature"
   ],
   "window_display": false
  },
  "vscode": {
   "interpreter": {
    "hash": "5775bb9b2454e5dca1f0dc8386d52c98a00f0bebac206d425229ecf3a1e4d8af"
   }
  }
 },
 "nbformat": 4,
 "nbformat_minor": 2
}
